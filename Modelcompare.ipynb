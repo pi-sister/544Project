{
 "cells": [
  {
   "cell_type": "code",
   "execution_count": null,
   "metadata": {},
   "outputs": [],
   "source": [
    "import kagglehub\n",
    "\n",
    "# Download latest version\n",
    "path = kagglehub.dataset_download(\"kaushil268/disease-prediction-using-machine-learning\")\n",
    "\n",
    "print(\"Path to dataset files:\", path)"
   ]
  },
  {
   "cell_type": "code",
   "execution_count": null,
   "metadata": {},
   "outputs": [],
   "source": [
    "import pandas as pd\n",
    "\n",
    "# Read the dataset into a pandas DataFrame\n",
    "training_data = pd.read_csv(path + \"/Training.csv\") \n",
    "testing_data = pd.read_csv(path + \"/Testing.csv\")\n",
    "\n",
    "training_data.head()"
   ]
  },
  {
   "cell_type": "code",
   "execution_count": null,
   "metadata": {},
   "outputs": [],
   "source": [
    "testing_data.columns"
   ]
  },
  {
   "cell_type": "code",
   "execution_count": null,
   "metadata": {},
   "outputs": [],
   "source": [
    "training_data = training_data.drop('Unnamed: 133', axis=1)\n",
    "# testing_data = testing_data.drop('Unnamed: 133', axis=1)\n",
    "X_train = training_data.drop('prognosis', axis=1)\n",
    "y_train = training_data['prognosis']\n",
    "\n",
    "X_test = testing_data.drop('prognosis', axis=1)\n",
    "y_test = testing_data['prognosis']\n"
   ]
  },
  {
   "cell_type": "code",
   "execution_count": null,
   "metadata": {},
   "outputs": [],
   "source": [
    "training_data.columns"
   ]
  },
  {
   "cell_type": "code",
   "execution_count": 20,
   "metadata": {},
   "outputs": [],
   "source": [
    "from sklearn.ensemble import RandomForestClassifier, GradientBoostingClassifier, AdaBoostClassifier, ExtraTreesClassifier, VotingClassifier, BaggingClassifier\n",
    "from sklearn.linear_model import LogisticRegression\n",
    "from sklearn.svm import SVC\n",
    "from sklearn.tree import DecisionTreeClassifier\n",
    "from sklearn.metrics import accuracy_score, precision_score, recall_score, f1_score\n",
    "\n",
    "rfmodel = RandomForestClassifier(n_estimators=100)\n",
    "gbmodel = GradientBoostingClassifier(n_estimators=100)\n",
    "abmodel = AdaBoostClassifier(n_estimators=100)\n",
    "etmodel = ExtraTreesClassifier(n_estimators=100)\n",
    "lrmodel = LogisticRegression()\n",
    "svcmodel = SVC()\n",
    "dtmodel = DecisionTreeClassifier()\n",
    "vcmodel = VotingClassifier(estimators=[('rf', rfmodel), ('gb', gbmodel), ('ab', abmodel), ('et', etmodel), ('lr', lrmodel), ('svc', svcmodel), ('dt', dtmodel)], voting='hard')\n",
    "bcmodel = BaggingClassifier(n_estimators=100)\n",
    "\n",
    "models = [rfmodel, gbmodel, abmodel, etmodel, lrmodel, svcmodel, dtmodel, vcmodel, bcmodel]\n",
    "acc_scores = []\n",
    "recall_scores = []\n",
    "precision_scores = []\n",
    "f1_scores = []\n",
    "\n",
    "for model in models:\n",
    "    model.fit(X_train, y_train)\n",
    "    y_pred = model.predict(X_test)\n",
    "    acc_scores.append(accuracy_score(y_test, y_pred))\n",
    "    recall_scores.append(recall_score(y_test, y_pred, average='micro'))\n",
    "    precision_scores.append(precision_score(y_test, y_pred, average = 'micro'))\n",
    "    f1_scores.append(f1_score(y_test, y_pred, average='micro'))\n",
    "    \n",
    "table = pd.DataFrame({'Model': ['Random Forest', 'Gradient Boosting', 'AdaBoost', 'Extra Trees', 'Logistic Regression', 'SVC', 'Decision Tree', \n",
    "                                'Voting Classifier', 'Bagging Classifier'], 'Accuracy': acc_scores, 'Recall': recall_scores, 'Precision': precision_scores, 'F1': f1_scores})"
   ]
  },
  {
   "cell_type": "code",
   "execution_count": null,
   "metadata": {},
   "outputs": [],
   "source": [
    "display(table)"
   ]
  },
  {
   "cell_type": "code",
   "execution_count": null,
   "metadata": {},
   "outputs": [],
   "source": [
    "import torch\n",
    "import torch.nn as nn\n",
    "import torch.optim as optim\n",
    "\n",
    "\n",
    "class CNN:\n",
    "    def __init__(self, input_shape, num_classes):\n",
    "        self.model = self.create_model(input_shape, num_classes)\n",
    "        self.model.compile(optimizer='adam', loss='categorical_crossentropy', metrics=['accuracy'])\n",
    "        \n",
    "    def create_model(self, input_shape, num_classes):\n",
    "        model = nn.Sequential(\n",
    "            nn.Conv2d(1, 32, (3, 3), padding='same', activation='relu', input_shape=input_shape),\n",
    "            nn.MaxPooling2D((2, 2)),\n",
    "            nn.Conv2d(32, 64, (3, 3), padding='same', activation='relu'),\n",
    "            nn.MaxPooling2D((2, 2)),\n",
    "            nn.Flatten(),\n",
    "            nn.Dense(128, activation='relu'),\n",
    "            nn.Dense(num_classes, activation='softmax')\n",
    "        )\n",
    "        return model\n",
    "    \n",
    "    def fit(self, X_train, y_train, X_test, y_test, epochs=10, batch_size=32):\n",
    "        self.model.fit(X_train, y_train, epochs=epochs, batch_size=batch_size, validation_data=(X_test, y_test))\n",
    "        \n",
    "    def predict(self, X):\n",
    "        return self.model.predict(X)\n",
    "    "
   ]
  }
 ],
 "metadata": {
  "kernelspec": {
   "display_name": ".venv",
   "language": "python",
   "name": "python3"
  },
  "language_info": {
   "codemirror_mode": {
    "name": "ipython",
    "version": 3
   },
   "file_extension": ".py",
   "mimetype": "text/x-python",
   "name": "python",
   "nbconvert_exporter": "python",
   "pygments_lexer": "ipython3",
   "version": "3.11.0"
  }
 },
 "nbformat": 4,
 "nbformat_minor": 2
}
